{
 "cells": [
  {
   "cell_type": "markdown",
   "id": "fb0a957c",
   "metadata": {},
   "source": [
    "# - Web Scraping | Xbox S in Amazon Website"
   ]
  },
  {
   "cell_type": "code",
   "execution_count": 42,
   "id": "817b97e6",
   "metadata": {
    "ExecuteTime": {
     "end_time": "2022-02-22T11:49:38.871316Z",
     "start_time": "2022-02-22T11:49:35.425186Z"
    }
   },
   "outputs": [],
   "source": [
    "import requests\n",
    "from bs4 import BeautifulSoup\n",
    "import lxml\n",
    "import json\n",
    "from datetime import date\n",
    "import csv\n",
    "\n",
    "\n",
    "headers = {\n",
    "\"Accept-Language\": \"pt-BR,pt;q=0.9,en-US;q=0.8,en;q=0.7\",\n",
    "\"User-Agent\": \"Mozilla/5.0 (Windows NT 10.0; Win64; x64) AppleWebKit/537.36 (KHTML, like Gecko) Chrome/98.0.4758.102 Safari/537.36\"\n",
    "}\n",
    "\n",
    "html = requests.get(\"https://www.amazon.com/Xbox-S-Fortnite-Rocket-League-Bundle/dp/B09H73LTM6/ref=sr_1_1?crid=V3ULSQ9SHO5S&keywords=xbox&qid=1645474230&sprefix=xbox%2Caps%2C160&sr=8-1\", headers=headers).text\n",
    "soup = BeautifulSoup(html, \"lxml\")\n",
    "prices = soup.find(name=\"span\", class_=\"priceBlockBuyingPriceString\")\n",
    "price = float(prices.text.split(\"$\")[1])\n"
   ]
  },
  {
   "cell_type": "code",
   "execution_count": 43,
   "id": "e10e7a88",
   "metadata": {
    "ExecuteTime": {
     "end_time": "2022-02-22T11:49:38.887331Z",
     "start_time": "2022-02-22T11:49:38.872317Z"
    }
   },
   "outputs": [
    {
     "name": "stdout",
     "output_type": "stream",
     "text": [
      "The price of the product is 298.99 dollars.\n"
     ]
    }
   ],
   "source": [
    "print ('The price of the product is {} dollars.'.format(price))"
   ]
  },
  {
   "cell_type": "markdown",
   "id": "d60161ae",
   "metadata": {},
   "source": [
    "# - API USD-BRL | Converting into BRL"
   ]
  },
  {
   "cell_type": "code",
   "execution_count": 44,
   "id": "5d710623",
   "metadata": {
    "ExecuteTime": {
     "end_time": "2022-02-22T11:49:39.031461Z",
     "start_time": "2022-02-22T11:49:38.888332Z"
    },
    "scrolled": true
   },
   "outputs": [
    {
     "data": {
      "text/plain": [
       "{'USD': {'code': 'USD',\n",
       "  'codein': 'BRL',\n",
       "  'name': 'Dólar Americano/Real Brasileiro',\n",
       "  'high': '5.108',\n",
       "  'low': '5.1038',\n",
       "  'varBid': '0.0044',\n",
       "  'pctChange': '0.09',\n",
       "  'bid': '5.107',\n",
       "  'ask': '5.109',\n",
       "  'timestamp': '1645528824',\n",
       "  'create_date': '2022-02-22 08:20:24'}}"
      ]
     },
     "execution_count": 44,
     "metadata": {},
     "output_type": "execute_result"
    }
   ],
   "source": [
    "requestx = requests.get('https://economia.awesomeapi.com.br/all/USD-BRL')\n",
    "conversion = requestx.json()\n",
    "conversion\n"
   ]
  },
  {
   "cell_type": "code",
   "execution_count": 45,
   "id": "7d4f25f4",
   "metadata": {
    "ExecuteTime": {
     "end_time": "2022-02-22T11:49:39.047476Z",
     "start_time": "2022-02-22T11:49:39.032463Z"
    }
   },
   "outputs": [
    {
     "name": "stdout",
     "output_type": "stream",
     "text": [
      "The price is 1526.94 BRL.\n"
     ]
    }
   ],
   "source": [
    "pricebrl = float(conversion['USD']['bid'])*price\n",
    "print('The price is {:.2f} BRL.'.format(pricebrl))"
   ]
  },
  {
   "cell_type": "markdown",
   "id": "4b19e1fc",
   "metadata": {},
   "source": [
    "# - Datetime | Timestamp now"
   ]
  },
  {
   "cell_type": "code",
   "execution_count": 46,
   "id": "b1de3ae0",
   "metadata": {
    "ExecuteTime": {
     "end_time": "2022-02-22T11:49:39.063491Z",
     "start_time": "2022-02-22T11:49:39.048477Z"
    }
   },
   "outputs": [
    {
     "name": "stdout",
     "output_type": "stream",
     "text": [
      "Today is 22/02/2022.\n"
     ]
    }
   ],
   "source": [
    "today = date.today()\n",
    "\n",
    "# converting dd/mm/YY\n",
    "today = today.strftime('%d/%m/%Y')\n",
    "print('Today is {}.'.format(today))"
   ]
  },
  {
   "cell_type": "markdown",
   "id": "f65f13f6",
   "metadata": {},
   "source": [
    "#  - Result | Mixing all together."
   ]
  },
  {
   "cell_type": "code",
   "execution_count": 47,
   "id": "3a58abac",
   "metadata": {
    "ExecuteTime": {
     "end_time": "2022-02-22T11:49:39.079505Z",
     "start_time": "2022-02-22T11:49:39.064492Z"
    }
   },
   "outputs": [
    {
     "name": "stdout",
     "output_type": "stream",
     "text": [
      "The price of the product in 22/02/2022 is 1526.94 BRL.\n"
     ]
    }
   ],
   "source": [
    "print('The price of the product in {} is {:.2f} BRL.'.format(today,float(conversion['USD']['bid'])*price))"
   ]
  },
  {
   "cell_type": "markdown",
   "id": "836ee1fb",
   "metadata": {
    "ExecuteTime": {
     "end_time": "2022-02-21T20:58:50.459995Z",
     "start_time": "2022-02-21T20:58:50.445982Z"
    }
   },
   "source": [
    "#  - Saving File | Saving in a file called 'prices.csv' in the same folder."
   ]
  },
  {
   "cell_type": "code",
   "execution_count": 48,
   "id": "5c386329",
   "metadata": {
    "ExecuteTime": {
     "end_time": "2022-02-22T11:49:39.095520Z",
     "start_time": "2022-02-22T11:49:39.080506Z"
    }
   },
   "outputs": [],
   "source": [
    "file = open('prices.csv', 'a', newline='')\n",
    "writer = csv.writer(file)\n",
    "writer.writerow([pricebrl,today])\n",
    "file.close()"
   ]
  },
  {
   "cell_type": "code",
   "execution_count": null,
   "id": "6c9a4196",
   "metadata": {},
   "outputs": [],
   "source": []
  }
 ],
 "metadata": {
  "hide_input": false,
  "kernelspec": {
   "display_name": "Python 3",
   "language": "python",
   "name": "python3"
  },
  "language_info": {
   "codemirror_mode": {
    "name": "ipython",
    "version": 3
   },
   "file_extension": ".py",
   "mimetype": "text/x-python",
   "name": "python",
   "nbconvert_exporter": "python",
   "pygments_lexer": "ipython3",
   "version": "3.8.8"
  },
  "toc": {
   "base_numbering": 1,
   "nav_menu": {},
   "number_sections": true,
   "sideBar": true,
   "skip_h1_title": false,
   "title_cell": "Table of Contents",
   "title_sidebar": "Contents",
   "toc_cell": false,
   "toc_position": {},
   "toc_section_display": true,
   "toc_window_display": false
  }
 },
 "nbformat": 4,
 "nbformat_minor": 5
}
